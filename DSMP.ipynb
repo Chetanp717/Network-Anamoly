{
 "cells": [
  {
   "cell_type": "code",
   "execution_count": null,
   "metadata": {
    "id": "25nDn8-XY9Wc"
   },
   "outputs": [],
   "source": []
  },
  {
   "cell_type": "code",
   "execution_count": 80,
   "metadata": {
    "id": "rac_s68MULGq"
   },
   "outputs": [],
   "source": [
    "import numpy as np\n",
    "import pandas as pd\n",
    "import seaborn as sns\n",
    "import matplotlib.pyplot as plt\n",
    "from pandas.api.types import is_numeric_dtype\n",
    "import warnings\n",
    "from sklearn import tree\n",
    "from sklearn.model_selection import train_test_split\n",
    "from sklearn.neighbors import KNeighborsClassifier\n",
    "from sklearn.linear_model import LogisticRegression\n",
    "from sklearn.preprocessing import StandardScaler, LabelEncoder\n",
    "from sklearn.tree  import DecisionTreeClassifier\n",
    "from sklearn.ensemble import RandomForestClassifier, AdaBoostClassifier, VotingClassifier, GradientBoostingClassifier\n",
    "from sklearn.svm import SVC, LinearSVC\n",
    "from sklearn.naive_bayes import BernoulliNB\n",
    "#from lightgbm import LGBMClassifier\n",
    "from sklearn.feature_selection import RFE\n",
    "import itertools\n",
    "#from xgboost import XGBClassifier\n",
    "from tabulate import tabulate\n"
   ]
  },
  {
   "cell_type": "code",
   "execution_count": 81,
   "metadata": {
    "id": "xr889ESxVdcG"
   },
   "outputs": [],
   "source": [
    "train=pd.read_csv(r\"C:\\Users\\nehas\\Downloads\\archive\\Train_data.csv\")"
   ]
  },
  {
   "cell_type": "code",
   "execution_count": 82,
   "metadata": {
    "id": "Q4Tj5NixVzwS"
   },
   "outputs": [],
   "source": [
    "test=pd.read_csv(r\"C:\\Users\\nehas\\Downloads\\archive\\Test_data.csv\")"
   ]
  },
  {
   "cell_type": "code",
   "execution_count": 83,
   "metadata": {
    "colab": {
     "base_uri": "https://localhost:8080/",
     "height": 299
    },
    "id": "UVwRWygNV7Mz",
    "outputId": "3ff73abb-9125-4a6f-8088-3e89bad47b54"
   },
   "outputs": [
    {
     "data": {
      "text/html": [
       "<div>\n",
       "<style scoped>\n",
       "    .dataframe tbody tr th:only-of-type {\n",
       "        vertical-align: middle;\n",
       "    }\n",
       "\n",
       "    .dataframe tbody tr th {\n",
       "        vertical-align: top;\n",
       "    }\n",
       "\n",
       "    .dataframe thead th {\n",
       "        text-align: right;\n",
       "    }\n",
       "</style>\n",
       "<table border=\"1\" class=\"dataframe\">\n",
       "  <thead>\n",
       "    <tr style=\"text-align: right;\">\n",
       "      <th></th>\n",
       "      <th>duration</th>\n",
       "      <th>protocol_type</th>\n",
       "      <th>service</th>\n",
       "      <th>flag</th>\n",
       "      <th>src_bytes</th>\n",
       "      <th>dst_bytes</th>\n",
       "      <th>land</th>\n",
       "      <th>wrong_fragment</th>\n",
       "      <th>urgent</th>\n",
       "      <th>hot</th>\n",
       "      <th>...</th>\n",
       "      <th>dst_host_srv_count</th>\n",
       "      <th>dst_host_same_srv_rate</th>\n",
       "      <th>dst_host_diff_srv_rate</th>\n",
       "      <th>dst_host_same_src_port_rate</th>\n",
       "      <th>dst_host_srv_diff_host_rate</th>\n",
       "      <th>dst_host_serror_rate</th>\n",
       "      <th>dst_host_srv_serror_rate</th>\n",
       "      <th>dst_host_rerror_rate</th>\n",
       "      <th>dst_host_srv_rerror_rate</th>\n",
       "      <th>class</th>\n",
       "    </tr>\n",
       "  </thead>\n",
       "  <tbody>\n",
       "    <tr>\n",
       "      <th>0</th>\n",
       "      <td>0</td>\n",
       "      <td>tcp</td>\n",
       "      <td>ftp_data</td>\n",
       "      <td>SF</td>\n",
       "      <td>491</td>\n",
       "      <td>0</td>\n",
       "      <td>0</td>\n",
       "      <td>0</td>\n",
       "      <td>0</td>\n",
       "      <td>0</td>\n",
       "      <td>...</td>\n",
       "      <td>25</td>\n",
       "      <td>0.17</td>\n",
       "      <td>0.03</td>\n",
       "      <td>0.17</td>\n",
       "      <td>0.00</td>\n",
       "      <td>0.00</td>\n",
       "      <td>0.00</td>\n",
       "      <td>0.05</td>\n",
       "      <td>0.00</td>\n",
       "      <td>normal</td>\n",
       "    </tr>\n",
       "    <tr>\n",
       "      <th>1</th>\n",
       "      <td>0</td>\n",
       "      <td>udp</td>\n",
       "      <td>other</td>\n",
       "      <td>SF</td>\n",
       "      <td>146</td>\n",
       "      <td>0</td>\n",
       "      <td>0</td>\n",
       "      <td>0</td>\n",
       "      <td>0</td>\n",
       "      <td>0</td>\n",
       "      <td>...</td>\n",
       "      <td>1</td>\n",
       "      <td>0.00</td>\n",
       "      <td>0.60</td>\n",
       "      <td>0.88</td>\n",
       "      <td>0.00</td>\n",
       "      <td>0.00</td>\n",
       "      <td>0.00</td>\n",
       "      <td>0.00</td>\n",
       "      <td>0.00</td>\n",
       "      <td>normal</td>\n",
       "    </tr>\n",
       "    <tr>\n",
       "      <th>2</th>\n",
       "      <td>0</td>\n",
       "      <td>tcp</td>\n",
       "      <td>private</td>\n",
       "      <td>S0</td>\n",
       "      <td>0</td>\n",
       "      <td>0</td>\n",
       "      <td>0</td>\n",
       "      <td>0</td>\n",
       "      <td>0</td>\n",
       "      <td>0</td>\n",
       "      <td>...</td>\n",
       "      <td>26</td>\n",
       "      <td>0.10</td>\n",
       "      <td>0.05</td>\n",
       "      <td>0.00</td>\n",
       "      <td>0.00</td>\n",
       "      <td>1.00</td>\n",
       "      <td>1.00</td>\n",
       "      <td>0.00</td>\n",
       "      <td>0.00</td>\n",
       "      <td>anomaly</td>\n",
       "    </tr>\n",
       "    <tr>\n",
       "      <th>3</th>\n",
       "      <td>0</td>\n",
       "      <td>tcp</td>\n",
       "      <td>http</td>\n",
       "      <td>SF</td>\n",
       "      <td>232</td>\n",
       "      <td>8153</td>\n",
       "      <td>0</td>\n",
       "      <td>0</td>\n",
       "      <td>0</td>\n",
       "      <td>0</td>\n",
       "      <td>...</td>\n",
       "      <td>255</td>\n",
       "      <td>1.00</td>\n",
       "      <td>0.00</td>\n",
       "      <td>0.03</td>\n",
       "      <td>0.04</td>\n",
       "      <td>0.03</td>\n",
       "      <td>0.01</td>\n",
       "      <td>0.00</td>\n",
       "      <td>0.01</td>\n",
       "      <td>normal</td>\n",
       "    </tr>\n",
       "    <tr>\n",
       "      <th>4</th>\n",
       "      <td>0</td>\n",
       "      <td>tcp</td>\n",
       "      <td>http</td>\n",
       "      <td>SF</td>\n",
       "      <td>199</td>\n",
       "      <td>420</td>\n",
       "      <td>0</td>\n",
       "      <td>0</td>\n",
       "      <td>0</td>\n",
       "      <td>0</td>\n",
       "      <td>...</td>\n",
       "      <td>255</td>\n",
       "      <td>1.00</td>\n",
       "      <td>0.00</td>\n",
       "      <td>0.00</td>\n",
       "      <td>0.00</td>\n",
       "      <td>0.00</td>\n",
       "      <td>0.00</td>\n",
       "      <td>0.00</td>\n",
       "      <td>0.00</td>\n",
       "      <td>normal</td>\n",
       "    </tr>\n",
       "  </tbody>\n",
       "</table>\n",
       "<p>5 rows × 42 columns</p>\n",
       "</div>"
      ],
      "text/plain": [
       "   duration protocol_type   service flag  src_bytes  dst_bytes  land  \\\n",
       "0         0           tcp  ftp_data   SF        491          0     0   \n",
       "1         0           udp     other   SF        146          0     0   \n",
       "2         0           tcp   private   S0          0          0     0   \n",
       "3         0           tcp      http   SF        232       8153     0   \n",
       "4         0           tcp      http   SF        199        420     0   \n",
       "\n",
       "   wrong_fragment  urgent  hot  ...  dst_host_srv_count  \\\n",
       "0               0       0    0  ...                  25   \n",
       "1               0       0    0  ...                   1   \n",
       "2               0       0    0  ...                  26   \n",
       "3               0       0    0  ...                 255   \n",
       "4               0       0    0  ...                 255   \n",
       "\n",
       "   dst_host_same_srv_rate  dst_host_diff_srv_rate  \\\n",
       "0                    0.17                    0.03   \n",
       "1                    0.00                    0.60   \n",
       "2                    0.10                    0.05   \n",
       "3                    1.00                    0.00   \n",
       "4                    1.00                    0.00   \n",
       "\n",
       "   dst_host_same_src_port_rate  dst_host_srv_diff_host_rate  \\\n",
       "0                         0.17                         0.00   \n",
       "1                         0.88                         0.00   \n",
       "2                         0.00                         0.00   \n",
       "3                         0.03                         0.04   \n",
       "4                         0.00                         0.00   \n",
       "\n",
       "   dst_host_serror_rate  dst_host_srv_serror_rate  dst_host_rerror_rate  \\\n",
       "0                  0.00                      0.00                  0.05   \n",
       "1                  0.00                      0.00                  0.00   \n",
       "2                  1.00                      1.00                  0.00   \n",
       "3                  0.03                      0.01                  0.00   \n",
       "4                  0.00                      0.00                  0.00   \n",
       "\n",
       "   dst_host_srv_rerror_rate    class  \n",
       "0                      0.00   normal  \n",
       "1                      0.00   normal  \n",
       "2                      0.00  anomaly  \n",
       "3                      0.01   normal  \n",
       "4                      0.00   normal  \n",
       "\n",
       "[5 rows x 42 columns]"
      ]
     },
     "execution_count": 83,
     "metadata": {},
     "output_type": "execute_result"
    }
   ],
   "source": [
    "train.head()"
   ]
  },
  {
   "cell_type": "code",
   "execution_count": 84,
   "metadata": {
    "colab": {
     "base_uri": "https://localhost:8080/"
    },
    "id": "4rgG76j3V-5f",
    "outputId": "a5f7dffa-9ffe-4bc6-ad60-b1b7d2c3a04e"
   },
   "outputs": [
    {
     "name": "stdout",
     "output_type": "stream",
     "text": [
      "<class 'pandas.core.frame.DataFrame'>\n",
      "RangeIndex: 25192 entries, 0 to 25191\n",
      "Data columns (total 42 columns):\n",
      " #   Column                       Non-Null Count  Dtype  \n",
      "---  ------                       --------------  -----  \n",
      " 0   duration                     25192 non-null  int64  \n",
      " 1   protocol_type                25192 non-null  object \n",
      " 2   service                      25192 non-null  object \n",
      " 3   flag                         25192 non-null  object \n",
      " 4   src_bytes                    25192 non-null  int64  \n",
      " 5   dst_bytes                    25192 non-null  int64  \n",
      " 6   land                         25192 non-null  int64  \n",
      " 7   wrong_fragment               25192 non-null  int64  \n",
      " 8   urgent                       25192 non-null  int64  \n",
      " 9   hot                          25192 non-null  int64  \n",
      " 10  num_failed_logins            25192 non-null  int64  \n",
      " 11  logged_in                    25192 non-null  int64  \n",
      " 12  num_compromised              25192 non-null  int64  \n",
      " 13  root_shell                   25192 non-null  int64  \n",
      " 14  su_attempted                 25192 non-null  int64  \n",
      " 15  num_root                     25192 non-null  int64  \n",
      " 16  num_file_creations           25192 non-null  int64  \n",
      " 17  num_shells                   25192 non-null  int64  \n",
      " 18  num_access_files             25192 non-null  int64  \n",
      " 19  num_outbound_cmds            25192 non-null  int64  \n",
      " 20  is_host_login                25192 non-null  int64  \n",
      " 21  is_guest_login               25192 non-null  int64  \n",
      " 22  count                        25192 non-null  int64  \n",
      " 23  srv_count                    25192 non-null  int64  \n",
      " 24  serror_rate                  25192 non-null  float64\n",
      " 25  srv_serror_rate              25192 non-null  float64\n",
      " 26  rerror_rate                  25192 non-null  float64\n",
      " 27  srv_rerror_rate              25192 non-null  float64\n",
      " 28  same_srv_rate                25192 non-null  float64\n",
      " 29  diff_srv_rate                25192 non-null  float64\n",
      " 30  srv_diff_host_rate           25192 non-null  float64\n",
      " 31  dst_host_count               25192 non-null  int64  \n",
      " 32  dst_host_srv_count           25192 non-null  int64  \n",
      " 33  dst_host_same_srv_rate       25192 non-null  float64\n",
      " 34  dst_host_diff_srv_rate       25192 non-null  float64\n",
      " 35  dst_host_same_src_port_rate  25192 non-null  float64\n",
      " 36  dst_host_srv_diff_host_rate  25192 non-null  float64\n",
      " 37  dst_host_serror_rate         25192 non-null  float64\n",
      " 38  dst_host_srv_serror_rate     25192 non-null  float64\n",
      " 39  dst_host_rerror_rate         25192 non-null  float64\n",
      " 40  dst_host_srv_rerror_rate     25192 non-null  float64\n",
      " 41  class                        25192 non-null  object \n",
      "dtypes: float64(15), int64(23), object(4)\n",
      "memory usage: 8.1+ MB\n"
     ]
    }
   ],
   "source": [
    "train.info()"
   ]
  },
  {
   "cell_type": "code",
   "execution_count": 85,
   "metadata": {},
   "outputs": [
    {
     "name": "stdout",
     "output_type": "stream",
     "text": [
      "<class 'pandas.core.frame.DataFrame'>\n",
      "RangeIndex: 22544 entries, 0 to 22543\n",
      "Data columns (total 41 columns):\n",
      " #   Column                       Non-Null Count  Dtype  \n",
      "---  ------                       --------------  -----  \n",
      " 0   duration                     22544 non-null  int64  \n",
      " 1   protocol_type                22544 non-null  object \n",
      " 2   service                      22544 non-null  object \n",
      " 3   flag                         22544 non-null  object \n",
      " 4   src_bytes                    22544 non-null  int64  \n",
      " 5   dst_bytes                    22544 non-null  int64  \n",
      " 6   land                         22544 non-null  int64  \n",
      " 7   wrong_fragment               22544 non-null  int64  \n",
      " 8   urgent                       22544 non-null  int64  \n",
      " 9   hot                          22544 non-null  int64  \n",
      " 10  num_failed_logins            22544 non-null  int64  \n",
      " 11  logged_in                    22544 non-null  int64  \n",
      " 12  num_compromised              22544 non-null  int64  \n",
      " 13  root_shell                   22544 non-null  int64  \n",
      " 14  su_attempted                 22544 non-null  int64  \n",
      " 15  num_root                     22544 non-null  int64  \n",
      " 16  num_file_creations           22544 non-null  int64  \n",
      " 17  num_shells                   22544 non-null  int64  \n",
      " 18  num_access_files             22544 non-null  int64  \n",
      " 19  num_outbound_cmds            22544 non-null  int64  \n",
      " 20  is_host_login                22544 non-null  int64  \n",
      " 21  is_guest_login               22544 non-null  int64  \n",
      " 22  count                        22544 non-null  int64  \n",
      " 23  srv_count                    22544 non-null  int64  \n",
      " 24  serror_rate                  22544 non-null  float64\n",
      " 25  srv_serror_rate              22544 non-null  float64\n",
      " 26  rerror_rate                  22544 non-null  float64\n",
      " 27  srv_rerror_rate              22544 non-null  float64\n",
      " 28  same_srv_rate                22544 non-null  float64\n",
      " 29  diff_srv_rate                22544 non-null  float64\n",
      " 30  srv_diff_host_rate           22544 non-null  float64\n",
      " 31  dst_host_count               22544 non-null  int64  \n",
      " 32  dst_host_srv_count           22544 non-null  int64  \n",
      " 33  dst_host_same_srv_rate       22544 non-null  float64\n",
      " 34  dst_host_diff_srv_rate       22544 non-null  float64\n",
      " 35  dst_host_same_src_port_rate  22544 non-null  float64\n",
      " 36  dst_host_srv_diff_host_rate  22544 non-null  float64\n",
      " 37  dst_host_serror_rate         22544 non-null  float64\n",
      " 38  dst_host_srv_serror_rate     22544 non-null  float64\n",
      " 39  dst_host_rerror_rate         22544 non-null  float64\n",
      " 40  dst_host_srv_rerror_rate     22544 non-null  float64\n",
      "dtypes: float64(15), int64(23), object(3)\n",
      "memory usage: 7.1+ MB\n"
     ]
    }
   ],
   "source": [
    "test.info()"
   ]
  },
  {
   "cell_type": "code",
   "execution_count": 86,
   "metadata": {
    "colab": {
     "base_uri": "https://localhost:8080/",
     "height": 394
    },
    "id": "1W64KVPPWBzp",
    "outputId": "21846713-819b-40d8-8ce9-1e06c4857b57"
   },
   "outputs": [
    {
     "data": {
      "text/html": [
       "<div>\n",
       "<style scoped>\n",
       "    .dataframe tbody tr th:only-of-type {\n",
       "        vertical-align: middle;\n",
       "    }\n",
       "\n",
       "    .dataframe tbody tr th {\n",
       "        vertical-align: top;\n",
       "    }\n",
       "\n",
       "    .dataframe thead th {\n",
       "        text-align: right;\n",
       "    }\n",
       "</style>\n",
       "<table border=\"1\" class=\"dataframe\">\n",
       "  <thead>\n",
       "    <tr style=\"text-align: right;\">\n",
       "      <th></th>\n",
       "      <th>duration</th>\n",
       "      <th>src_bytes</th>\n",
       "      <th>dst_bytes</th>\n",
       "      <th>land</th>\n",
       "      <th>wrong_fragment</th>\n",
       "      <th>urgent</th>\n",
       "      <th>hot</th>\n",
       "      <th>num_failed_logins</th>\n",
       "      <th>logged_in</th>\n",
       "      <th>num_compromised</th>\n",
       "      <th>...</th>\n",
       "      <th>dst_host_count</th>\n",
       "      <th>dst_host_srv_count</th>\n",
       "      <th>dst_host_same_srv_rate</th>\n",
       "      <th>dst_host_diff_srv_rate</th>\n",
       "      <th>dst_host_same_src_port_rate</th>\n",
       "      <th>dst_host_srv_diff_host_rate</th>\n",
       "      <th>dst_host_serror_rate</th>\n",
       "      <th>dst_host_srv_serror_rate</th>\n",
       "      <th>dst_host_rerror_rate</th>\n",
       "      <th>dst_host_srv_rerror_rate</th>\n",
       "    </tr>\n",
       "  </thead>\n",
       "  <tbody>\n",
       "    <tr>\n",
       "      <th>count</th>\n",
       "      <td>25192.000000</td>\n",
       "      <td>2.519200e+04</td>\n",
       "      <td>2.519200e+04</td>\n",
       "      <td>25192.000000</td>\n",
       "      <td>25192.000000</td>\n",
       "      <td>25192.00000</td>\n",
       "      <td>25192.000000</td>\n",
       "      <td>25192.000000</td>\n",
       "      <td>25192.000000</td>\n",
       "      <td>25192.000000</td>\n",
       "      <td>...</td>\n",
       "      <td>25192.000000</td>\n",
       "      <td>25192.000000</td>\n",
       "      <td>25192.000000</td>\n",
       "      <td>25192.000000</td>\n",
       "      <td>25192.000000</td>\n",
       "      <td>25192.000000</td>\n",
       "      <td>25192.000000</td>\n",
       "      <td>25192.000000</td>\n",
       "      <td>25192.000000</td>\n",
       "      <td>25192.000000</td>\n",
       "    </tr>\n",
       "    <tr>\n",
       "      <th>mean</th>\n",
       "      <td>305.054104</td>\n",
       "      <td>2.433063e+04</td>\n",
       "      <td>3.491847e+03</td>\n",
       "      <td>0.000079</td>\n",
       "      <td>0.023738</td>\n",
       "      <td>0.00004</td>\n",
       "      <td>0.198039</td>\n",
       "      <td>0.001191</td>\n",
       "      <td>0.394768</td>\n",
       "      <td>0.227850</td>\n",
       "      <td>...</td>\n",
       "      <td>182.532074</td>\n",
       "      <td>115.063036</td>\n",
       "      <td>0.519791</td>\n",
       "      <td>0.082539</td>\n",
       "      <td>0.147453</td>\n",
       "      <td>0.031844</td>\n",
       "      <td>0.285800</td>\n",
       "      <td>0.279846</td>\n",
       "      <td>0.117800</td>\n",
       "      <td>0.118769</td>\n",
       "    </tr>\n",
       "    <tr>\n",
       "      <th>std</th>\n",
       "      <td>2686.555640</td>\n",
       "      <td>2.410805e+06</td>\n",
       "      <td>8.883072e+04</td>\n",
       "      <td>0.008910</td>\n",
       "      <td>0.260221</td>\n",
       "      <td>0.00630</td>\n",
       "      <td>2.154202</td>\n",
       "      <td>0.045418</td>\n",
       "      <td>0.488811</td>\n",
       "      <td>10.417352</td>\n",
       "      <td>...</td>\n",
       "      <td>98.993895</td>\n",
       "      <td>110.646850</td>\n",
       "      <td>0.448944</td>\n",
       "      <td>0.187191</td>\n",
       "      <td>0.308367</td>\n",
       "      <td>0.110575</td>\n",
       "      <td>0.445316</td>\n",
       "      <td>0.446075</td>\n",
       "      <td>0.305869</td>\n",
       "      <td>0.317333</td>\n",
       "    </tr>\n",
       "    <tr>\n",
       "      <th>min</th>\n",
       "      <td>0.000000</td>\n",
       "      <td>0.000000e+00</td>\n",
       "      <td>0.000000e+00</td>\n",
       "      <td>0.000000</td>\n",
       "      <td>0.000000</td>\n",
       "      <td>0.00000</td>\n",
       "      <td>0.000000</td>\n",
       "      <td>0.000000</td>\n",
       "      <td>0.000000</td>\n",
       "      <td>0.000000</td>\n",
       "      <td>...</td>\n",
       "      <td>0.000000</td>\n",
       "      <td>0.000000</td>\n",
       "      <td>0.000000</td>\n",
       "      <td>0.000000</td>\n",
       "      <td>0.000000</td>\n",
       "      <td>0.000000</td>\n",
       "      <td>0.000000</td>\n",
       "      <td>0.000000</td>\n",
       "      <td>0.000000</td>\n",
       "      <td>0.000000</td>\n",
       "    </tr>\n",
       "    <tr>\n",
       "      <th>25%</th>\n",
       "      <td>0.000000</td>\n",
       "      <td>0.000000e+00</td>\n",
       "      <td>0.000000e+00</td>\n",
       "      <td>0.000000</td>\n",
       "      <td>0.000000</td>\n",
       "      <td>0.00000</td>\n",
       "      <td>0.000000</td>\n",
       "      <td>0.000000</td>\n",
       "      <td>0.000000</td>\n",
       "      <td>0.000000</td>\n",
       "      <td>...</td>\n",
       "      <td>84.000000</td>\n",
       "      <td>10.000000</td>\n",
       "      <td>0.050000</td>\n",
       "      <td>0.000000</td>\n",
       "      <td>0.000000</td>\n",
       "      <td>0.000000</td>\n",
       "      <td>0.000000</td>\n",
       "      <td>0.000000</td>\n",
       "      <td>0.000000</td>\n",
       "      <td>0.000000</td>\n",
       "    </tr>\n",
       "    <tr>\n",
       "      <th>50%</th>\n",
       "      <td>0.000000</td>\n",
       "      <td>4.400000e+01</td>\n",
       "      <td>0.000000e+00</td>\n",
       "      <td>0.000000</td>\n",
       "      <td>0.000000</td>\n",
       "      <td>0.00000</td>\n",
       "      <td>0.000000</td>\n",
       "      <td>0.000000</td>\n",
       "      <td>0.000000</td>\n",
       "      <td>0.000000</td>\n",
       "      <td>...</td>\n",
       "      <td>255.000000</td>\n",
       "      <td>61.000000</td>\n",
       "      <td>0.510000</td>\n",
       "      <td>0.030000</td>\n",
       "      <td>0.000000</td>\n",
       "      <td>0.000000</td>\n",
       "      <td>0.000000</td>\n",
       "      <td>0.000000</td>\n",
       "      <td>0.000000</td>\n",
       "      <td>0.000000</td>\n",
       "    </tr>\n",
       "    <tr>\n",
       "      <th>75%</th>\n",
       "      <td>0.000000</td>\n",
       "      <td>2.790000e+02</td>\n",
       "      <td>5.302500e+02</td>\n",
       "      <td>0.000000</td>\n",
       "      <td>0.000000</td>\n",
       "      <td>0.00000</td>\n",
       "      <td>0.000000</td>\n",
       "      <td>0.000000</td>\n",
       "      <td>1.000000</td>\n",
       "      <td>0.000000</td>\n",
       "      <td>...</td>\n",
       "      <td>255.000000</td>\n",
       "      <td>255.000000</td>\n",
       "      <td>1.000000</td>\n",
       "      <td>0.070000</td>\n",
       "      <td>0.060000</td>\n",
       "      <td>0.020000</td>\n",
       "      <td>1.000000</td>\n",
       "      <td>1.000000</td>\n",
       "      <td>0.000000</td>\n",
       "      <td>0.000000</td>\n",
       "    </tr>\n",
       "    <tr>\n",
       "      <th>max</th>\n",
       "      <td>42862.000000</td>\n",
       "      <td>3.817091e+08</td>\n",
       "      <td>5.151385e+06</td>\n",
       "      <td>1.000000</td>\n",
       "      <td>3.000000</td>\n",
       "      <td>1.00000</td>\n",
       "      <td>77.000000</td>\n",
       "      <td>4.000000</td>\n",
       "      <td>1.000000</td>\n",
       "      <td>884.000000</td>\n",
       "      <td>...</td>\n",
       "      <td>255.000000</td>\n",
       "      <td>255.000000</td>\n",
       "      <td>1.000000</td>\n",
       "      <td>1.000000</td>\n",
       "      <td>1.000000</td>\n",
       "      <td>1.000000</td>\n",
       "      <td>1.000000</td>\n",
       "      <td>1.000000</td>\n",
       "      <td>1.000000</td>\n",
       "      <td>1.000000</td>\n",
       "    </tr>\n",
       "  </tbody>\n",
       "</table>\n",
       "<p>8 rows × 38 columns</p>\n",
       "</div>"
      ],
      "text/plain": [
       "           duration     src_bytes     dst_bytes          land  wrong_fragment  \\\n",
       "count  25192.000000  2.519200e+04  2.519200e+04  25192.000000    25192.000000   \n",
       "mean     305.054104  2.433063e+04  3.491847e+03      0.000079        0.023738   \n",
       "std     2686.555640  2.410805e+06  8.883072e+04      0.008910        0.260221   \n",
       "min        0.000000  0.000000e+00  0.000000e+00      0.000000        0.000000   \n",
       "25%        0.000000  0.000000e+00  0.000000e+00      0.000000        0.000000   \n",
       "50%        0.000000  4.400000e+01  0.000000e+00      0.000000        0.000000   \n",
       "75%        0.000000  2.790000e+02  5.302500e+02      0.000000        0.000000   \n",
       "max    42862.000000  3.817091e+08  5.151385e+06      1.000000        3.000000   \n",
       "\n",
       "            urgent           hot  num_failed_logins     logged_in  \\\n",
       "count  25192.00000  25192.000000       25192.000000  25192.000000   \n",
       "mean       0.00004      0.198039           0.001191      0.394768   \n",
       "std        0.00630      2.154202           0.045418      0.488811   \n",
       "min        0.00000      0.000000           0.000000      0.000000   \n",
       "25%        0.00000      0.000000           0.000000      0.000000   \n",
       "50%        0.00000      0.000000           0.000000      0.000000   \n",
       "75%        0.00000      0.000000           0.000000      1.000000   \n",
       "max        1.00000     77.000000           4.000000      1.000000   \n",
       "\n",
       "       num_compromised  ...  dst_host_count  dst_host_srv_count  \\\n",
       "count     25192.000000  ...    25192.000000        25192.000000   \n",
       "mean          0.227850  ...      182.532074          115.063036   \n",
       "std          10.417352  ...       98.993895          110.646850   \n",
       "min           0.000000  ...        0.000000            0.000000   \n",
       "25%           0.000000  ...       84.000000           10.000000   \n",
       "50%           0.000000  ...      255.000000           61.000000   \n",
       "75%           0.000000  ...      255.000000          255.000000   \n",
       "max         884.000000  ...      255.000000          255.000000   \n",
       "\n",
       "       dst_host_same_srv_rate  dst_host_diff_srv_rate  \\\n",
       "count            25192.000000            25192.000000   \n",
       "mean                 0.519791                0.082539   \n",
       "std                  0.448944                0.187191   \n",
       "min                  0.000000                0.000000   \n",
       "25%                  0.050000                0.000000   \n",
       "50%                  0.510000                0.030000   \n",
       "75%                  1.000000                0.070000   \n",
       "max                  1.000000                1.000000   \n",
       "\n",
       "       dst_host_same_src_port_rate  dst_host_srv_diff_host_rate  \\\n",
       "count                 25192.000000                 25192.000000   \n",
       "mean                      0.147453                     0.031844   \n",
       "std                       0.308367                     0.110575   \n",
       "min                       0.000000                     0.000000   \n",
       "25%                       0.000000                     0.000000   \n",
       "50%                       0.000000                     0.000000   \n",
       "75%                       0.060000                     0.020000   \n",
       "max                       1.000000                     1.000000   \n",
       "\n",
       "       dst_host_serror_rate  dst_host_srv_serror_rate  dst_host_rerror_rate  \\\n",
       "count          25192.000000              25192.000000          25192.000000   \n",
       "mean               0.285800                  0.279846              0.117800   \n",
       "std                0.445316                  0.446075              0.305869   \n",
       "min                0.000000                  0.000000              0.000000   \n",
       "25%                0.000000                  0.000000              0.000000   \n",
       "50%                0.000000                  0.000000              0.000000   \n",
       "75%                1.000000                  1.000000              0.000000   \n",
       "max                1.000000                  1.000000              1.000000   \n",
       "\n",
       "       dst_host_srv_rerror_rate  \n",
       "count              25192.000000  \n",
       "mean                   0.118769  \n",
       "std                    0.317333  \n",
       "min                    0.000000  \n",
       "25%                    0.000000  \n",
       "50%                    0.000000  \n",
       "75%                    0.000000  \n",
       "max                    1.000000  \n",
       "\n",
       "[8 rows x 38 columns]"
      ]
     },
     "execution_count": 86,
     "metadata": {},
     "output_type": "execute_result"
    }
   ],
   "source": [
    "train.describe()"
   ]
  },
  {
   "cell_type": "code",
   "execution_count": 87,
   "metadata": {
    "colab": {
     "base_uri": "https://localhost:8080/",
     "height": 175
    },
    "id": "EGiHa--gWGlh",
    "outputId": "3669ca3b-1263-4c17-db38-735a094d157b"
   },
   "outputs": [
    {
     "data": {
      "text/html": [
       "<div>\n",
       "<style scoped>\n",
       "    .dataframe tbody tr th:only-of-type {\n",
       "        vertical-align: middle;\n",
       "    }\n",
       "\n",
       "    .dataframe tbody tr th {\n",
       "        vertical-align: top;\n",
       "    }\n",
       "\n",
       "    .dataframe thead th {\n",
       "        text-align: right;\n",
       "    }\n",
       "</style>\n",
       "<table border=\"1\" class=\"dataframe\">\n",
       "  <thead>\n",
       "    <tr style=\"text-align: right;\">\n",
       "      <th></th>\n",
       "      <th>protocol_type</th>\n",
       "      <th>service</th>\n",
       "      <th>flag</th>\n",
       "      <th>class</th>\n",
       "    </tr>\n",
       "  </thead>\n",
       "  <tbody>\n",
       "    <tr>\n",
       "      <th>count</th>\n",
       "      <td>25192</td>\n",
       "      <td>25192</td>\n",
       "      <td>25192</td>\n",
       "      <td>25192</td>\n",
       "    </tr>\n",
       "    <tr>\n",
       "      <th>unique</th>\n",
       "      <td>3</td>\n",
       "      <td>66</td>\n",
       "      <td>11</td>\n",
       "      <td>2</td>\n",
       "    </tr>\n",
       "    <tr>\n",
       "      <th>top</th>\n",
       "      <td>tcp</td>\n",
       "      <td>http</td>\n",
       "      <td>SF</td>\n",
       "      <td>normal</td>\n",
       "    </tr>\n",
       "    <tr>\n",
       "      <th>freq</th>\n",
       "      <td>20526</td>\n",
       "      <td>8003</td>\n",
       "      <td>14973</td>\n",
       "      <td>13449</td>\n",
       "    </tr>\n",
       "  </tbody>\n",
       "</table>\n",
       "</div>"
      ],
      "text/plain": [
       "       protocol_type service   flag   class\n",
       "count          25192   25192  25192   25192\n",
       "unique             3      66     11       2\n",
       "top              tcp    http     SF  normal\n",
       "freq           20526    8003  14973   13449"
      ]
     },
     "execution_count": 87,
     "metadata": {},
     "output_type": "execute_result"
    }
   ],
   "source": [
    "train.describe(include='object')"
   ]
  },
  {
   "cell_type": "code",
   "execution_count": 88,
   "metadata": {
    "colab": {
     "base_uri": "https://localhost:8080/"
    },
    "id": "rFl859YOWKcW",
    "outputId": "86dfcd59-f9b9-40cf-8236-71574a4f115a"
   },
   "outputs": [
    {
     "data": {
      "text/plain": [
       "(25192, 42)"
      ]
     },
     "execution_count": 88,
     "metadata": {},
     "output_type": "execute_result"
    }
   ],
   "source": [
    "train.shape"
   ]
  },
  {
   "cell_type": "code",
   "execution_count": 89,
   "metadata": {
    "colab": {
     "base_uri": "https://localhost:8080/"
    },
    "id": "EKFrn7fyWTJy",
    "outputId": "ed61f0ca-c9ba-4c84-a9a8-dabcc050e536"
   },
   "outputs": [
    {
     "data": {
      "text/plain": [
       "duration                       0\n",
       "protocol_type                  0\n",
       "service                        0\n",
       "flag                           0\n",
       "src_bytes                      0\n",
       "dst_bytes                      0\n",
       "land                           0\n",
       "wrong_fragment                 0\n",
       "urgent                         0\n",
       "hot                            0\n",
       "num_failed_logins              0\n",
       "logged_in                      0\n",
       "num_compromised                0\n",
       "root_shell                     0\n",
       "su_attempted                   0\n",
       "num_root                       0\n",
       "num_file_creations             0\n",
       "num_shells                     0\n",
       "num_access_files               0\n",
       "num_outbound_cmds              0\n",
       "is_host_login                  0\n",
       "is_guest_login                 0\n",
       "count                          0\n",
       "srv_count                      0\n",
       "serror_rate                    0\n",
       "srv_serror_rate                0\n",
       "rerror_rate                    0\n",
       "srv_rerror_rate                0\n",
       "same_srv_rate                  0\n",
       "diff_srv_rate                  0\n",
       "srv_diff_host_rate             0\n",
       "dst_host_count                 0\n",
       "dst_host_srv_count             0\n",
       "dst_host_same_srv_rate         0\n",
       "dst_host_diff_srv_rate         0\n",
       "dst_host_same_src_port_rate    0\n",
       "dst_host_srv_diff_host_rate    0\n",
       "dst_host_serror_rate           0\n",
       "dst_host_srv_serror_rate       0\n",
       "dst_host_rerror_rate           0\n",
       "dst_host_srv_rerror_rate       0\n",
       "class                          0\n",
       "dtype: int64"
      ]
     },
     "execution_count": 89,
     "metadata": {},
     "output_type": "execute_result"
    }
   ],
   "source": [
    "train.isnull().sum()"
   ]
  },
  {
   "cell_type": "code",
   "execution_count": 90,
   "metadata": {
    "id": "OabOI5SGB4Qs"
   },
   "outputs": [],
   "source": [
    "total = train.shape[0]\n",
    "missing_columns = [col for col in train.columns if train[col].isnull().sum() > 0]\n",
    "for col in missing_columns:\n",
    "    null_count = train[col].isnull().sum()\n",
    "    per = (null_count/total) * 100\n",
    "    print(f\"{col}: {null_count} ({round(per, 3)}%)\")"
   ]
  },
  {
   "cell_type": "code",
   "execution_count": 91,
   "metadata": {
    "colab": {
     "base_uri": "https://localhost:8080/"
    },
    "id": "PXHJVbd4B-RE",
    "outputId": "f24b8009-efc0-40a4-b2e0-b0f6067da7c4"
   },
   "outputs": [
    {
     "name": "stdout",
     "output_type": "stream",
     "text": [
      "Number of duplicate rows: 0\n"
     ]
    }
   ],
   "source": [
    "print(f\"Number of duplicate rows: {train.duplicated().sum()}\")"
   ]
  },
  {
   "cell_type": "code",
   "execution_count": 92,
   "metadata": {
    "colab": {
     "base_uri": "https://localhost:8080/",
     "height": 298
    },
    "id": "op0OfFS0CDsX",
    "outputId": "5334d88e-9039-4851-bfbb-34d139a8f72a"
   },
   "outputs": [
    {
     "data": {
      "text/plain": [
       "<Axes: xlabel='class', ylabel='count'>"
      ]
     },
     "execution_count": 92,
     "metadata": {},
     "output_type": "execute_result"
    },
    {
     "data": {
      "image/png": "[encoded data removed]",
      "text/plain": [
       "<Figure size 640x480 with 1 Axes>"
      ]
     },
     "metadata": {},
     "output_type": "display_data"
    }
   ],
   "source": [
    "sns.countplot(x=train['class'])"
   ]
  },
  {
   "cell_type": "code",
   "execution_count": 93,
   "metadata": {
    "colab": {
     "base_uri": "https://localhost:8080/"
    },
    "id": "-ExlPfKQWZOZ",
    "outputId": "9c70213b-6a32-43fc-eee0-5bd2a2dd86b2"
   },
   "outputs": [
    {
     "name": "stdout",
     "output_type": "stream",
     "text": [
      "Class distribution Training set:\n",
      "class\n",
      "normal     13449\n",
      "anomaly    11743\n",
      "Name: count, dtype: int64\n"
     ]
    }
   ],
   "source": [
    "print('Class distribution Training set:')\n",
    "print(train['class'].value_counts())"
   ]
  },
  {
   "cell_type": "code",
   "execution_count": 94,
   "metadata": {
    "id": "lm0pcky1Wsmh"
   },
   "outputs": [],
   "source": [
    "def le(df):\n",
    "    for col in df.columns:\n",
    "        if df[col].dtype == 'object':\n",
    "                label_encoder = LabelEncoder()\n",
    "                df[col] = label_encoder.fit_transform(df[col])\n",
    "\n",
    "le(train)\n",
    "le(test)"
   ]
  },
  {
   "cell_type": "code",
   "execution_count": 95,
   "metadata": {
    "id": "oZGaq2aQHW0x"
   },
   "outputs": [],
   "source": [
    "train.drop(['num_outbound_cmds'], axis=1, inplace=True)\n",
    "test.drop(['num_outbound_cmds'], axis=1, inplace=True)"
   ]
  },
  {
   "cell_type": "code",
   "execution_count": 96,
   "metadata": {
    "colab": {
     "base_uri": "https://localhost:8080/",
     "height": 299
    },
    "id": "4VZ9PSX8HbZ8",
    "outputId": "e4ac3cdd-bd8d-4612-bb2e-9c452ba57142"
   },
   "outputs": [
    {
     "data": {
      "text/html": [
       "<div>\n",
       "<style scoped>\n",
       "    .dataframe tbody tr th:only-of-type {\n",
       "        vertical-align: middle;\n",
       "    }\n",
       "\n",
       "    .dataframe tbody tr th {\n",
       "        vertical-align: top;\n",
       "    }\n",
       "\n",
       "    .dataframe thead th {\n",
       "        text-align: right;\n",
       "    }\n",
       "</style>\n",
       "<table border=\"1\" class=\"dataframe\">\n",
       "  <thead>\n",
       "    <tr style=\"text-align: right;\">\n",
       "      <th></th>\n",
       "      <th>duration</th>\n",
       "      <th>protocol_type</th>\n",
       "      <th>service</th>\n",
       "      <th>flag</th>\n",
       "      <th>src_bytes</th>\n",
       "      <th>dst_bytes</th>\n",
       "      <th>land</th>\n",
       "      <th>wrong_fragment</th>\n",
       "      <th>urgent</th>\n",
       "      <th>hot</th>\n",
       "      <th>...</th>\n",
       "      <th>dst_host_srv_count</th>\n",
       "      <th>dst_host_same_srv_rate</th>\n",
       "      <th>dst_host_diff_srv_rate</th>\n",
       "      <th>dst_host_same_src_port_rate</th>\n",
       "      <th>dst_host_srv_diff_host_rate</th>\n",
       "      <th>dst_host_serror_rate</th>\n",
       "      <th>dst_host_srv_serror_rate</th>\n",
       "      <th>dst_host_rerror_rate</th>\n",
       "      <th>dst_host_srv_rerror_rate</th>\n",
       "      <th>class</th>\n",
       "    </tr>\n",
       "  </thead>\n",
       "  <tbody>\n",
       "    <tr>\n",
       "      <th>0</th>\n",
       "      <td>0</td>\n",
       "      <td>1</td>\n",
       "      <td>19</td>\n",
       "      <td>9</td>\n",
       "      <td>491</td>\n",
       "      <td>0</td>\n",
       "      <td>0</td>\n",
       "      <td>0</td>\n",
       "      <td>0</td>\n",
       "      <td>0</td>\n",
       "      <td>...</td>\n",
       "      <td>25</td>\n",
       "      <td>0.17</td>\n",
       "      <td>0.03</td>\n",
       "      <td>0.17</td>\n",
       "      <td>0.00</td>\n",
       "      <td>0.00</td>\n",
       "      <td>0.00</td>\n",
       "      <td>0.05</td>\n",
       "      <td>0.00</td>\n",
       "      <td>1</td>\n",
       "    </tr>\n",
       "    <tr>\n",
       "      <th>1</th>\n",
       "      <td>0</td>\n",
       "      <td>2</td>\n",
       "      <td>41</td>\n",
       "      <td>9</td>\n",
       "      <td>146</td>\n",
       "      <td>0</td>\n",
       "      <td>0</td>\n",
       "      <td>0</td>\n",
       "      <td>0</td>\n",
       "      <td>0</td>\n",
       "      <td>...</td>\n",
       "      <td>1</td>\n",
       "      <td>0.00</td>\n",
       "      <td>0.60</td>\n",
       "      <td>0.88</td>\n",
       "      <td>0.00</td>\n",
       "      <td>0.00</td>\n",
       "      <td>0.00</td>\n",
       "      <td>0.00</td>\n",
       "      <td>0.00</td>\n",
       "      <td>1</td>\n",
       "    </tr>\n",
       "    <tr>\n",
       "      <th>2</th>\n",
       "      <td>0</td>\n",
       "      <td>1</td>\n",
       "      <td>46</td>\n",
       "      <td>5</td>\n",
       "      <td>0</td>\n",
       "      <td>0</td>\n",
       "      <td>0</td>\n",
       "      <td>0</td>\n",
       "      <td>0</td>\n",
       "      <td>0</td>\n",
       "      <td>...</td>\n",
       "      <td>26</td>\n",
       "      <td>0.10</td>\n",
       "      <td>0.05</td>\n",
       "      <td>0.00</td>\n",
       "      <td>0.00</td>\n",
       "      <td>1.00</td>\n",
       "      <td>1.00</td>\n",
       "      <td>0.00</td>\n",
       "      <td>0.00</td>\n",
       "      <td>0</td>\n",
       "    </tr>\n",
       "    <tr>\n",
       "      <th>3</th>\n",
       "      <td>0</td>\n",
       "      <td>1</td>\n",
       "      <td>22</td>\n",
       "      <td>9</td>\n",
       "      <td>232</td>\n",
       "      <td>8153</td>\n",
       "      <td>0</td>\n",
       "      <td>0</td>\n",
       "      <td>0</td>\n",
       "      <td>0</td>\n",
       "      <td>...</td>\n",
       "      <td>255</td>\n",
       "      <td>1.00</td>\n",
       "      <td>0.00</td>\n",
       "      <td>0.03</td>\n",
       "      <td>0.04</td>\n",
       "      <td>0.03</td>\n",
       "      <td>0.01</td>\n",
       "      <td>0.00</td>\n",
       "      <td>0.01</td>\n",
       "      <td>1</td>\n",
       "    </tr>\n",
       "    <tr>\n",
       "      <th>4</th>\n",
       "      <td>0</td>\n",
       "      <td>1</td>\n",
       "      <td>22</td>\n",
       "      <td>9</td>\n",
       "      <td>199</td>\n",
       "      <td>420</td>\n",
       "      <td>0</td>\n",
       "      <td>0</td>\n",
       "      <td>0</td>\n",
       "      <td>0</td>\n",
       "      <td>...</td>\n",
       "      <td>255</td>\n",
       "      <td>1.00</td>\n",
       "      <td>0.00</td>\n",
       "      <td>0.00</td>\n",
       "      <td>0.00</td>\n",
       "      <td>0.00</td>\n",
       "      <td>0.00</td>\n",
       "      <td>0.00</td>\n",
       "      <td>0.00</td>\n",
       "      <td>1</td>\n",
       "    </tr>\n",
       "  </tbody>\n",
       "</table>\n",
       "<p>5 rows × 41 columns</p>\n",
       "</div>"
      ],
      "text/plain": [
       "   duration  protocol_type  service  flag  src_bytes  dst_bytes  land  \\\n",
       "0         0              1       19     9        491          0     0   \n",
       "1         0              2       41     9        146          0     0   \n",
       "2         0              1       46     5          0          0     0   \n",
       "3         0              1       22     9        232       8153     0   \n",
       "4         0              1       22     9        199        420     0   \n",
       "\n",
       "   wrong_fragment  urgent  hot  ...  dst_host_srv_count  \\\n",
       "0               0       0    0  ...                  25   \n",
       "1               0       0    0  ...                   1   \n",
       "2               0       0    0  ...                  26   \n",
       "3               0       0    0  ...                 255   \n",
       "4               0       0    0  ...                 255   \n",
       "\n",
       "   dst_host_same_srv_rate  dst_host_diff_srv_rate  \\\n",
       "0                    0.17                    0.03   \n",
       "1                    0.00                    0.60   \n",
       "2                    0.10                    0.05   \n",
       "3                    1.00                    0.00   \n",
       "4                    1.00                    0.00   \n",
       "\n",
       "   dst_host_same_src_port_rate  dst_host_srv_diff_host_rate  \\\n",
       "0                         0.17                         0.00   \n",
       "1                         0.88                         0.00   \n",
       "2                         0.00                         0.00   \n",
       "3                         0.03                         0.04   \n",
       "4                         0.00                         0.00   \n",
       "\n",
       "   dst_host_serror_rate  dst_host_srv_serror_rate  dst_host_rerror_rate  \\\n",
       "0                  0.00                      0.00                  0.05   \n",
       "1                  0.00                      0.00                  0.00   \n",
       "2                  1.00                      1.00                  0.00   \n",
       "3                  0.03                      0.01                  0.00   \n",
       "4                  0.00                      0.00                  0.00   \n",
       "\n",
       "   dst_host_srv_rerror_rate  class  \n",
       "0                      0.00      1  \n",
       "1                      0.00      1  \n",
       "2                      0.00      0  \n",
       "3                      0.01      1  \n",
       "4                      0.00      1  \n",
       "\n",
       "[5 rows x 41 columns]"
      ]
     },
     "execution_count": 96,
     "metadata": {},
     "output_type": "execute_result"
    }
   ],
   "source": [
    "train.head()"
   ]
  },
  {
   "cell_type": "code",
   "execution_count": 97,
   "metadata": {
    "id": "RkUF2v_zHdIu"
   },
   "outputs": [],
   "source": [
    "X_train = train.drop(['class'], axis=1)\n",
    "Y_train = train['class']"
   ]
  },
  {
   "cell_type": "code",
   "execution_count": 98,
   "metadata": {
    "colab": {
     "base_uri": "https://localhost:8080/"
    },
    "id": "_X4hu-14H-JC",
    "outputId": "6c77d689-b9fd-4e58-d5f7-7edac3e1b934"
   },
   "outputs": [
    {
     "data": {
      "text/plain": [
       "['protocol_type',\n",
       " 'flag',\n",
       " 'src_bytes',\n",
       " 'dst_bytes',\n",
       " 'count',\n",
       " 'same_srv_rate',\n",
       " 'diff_srv_rate',\n",
       " 'dst_host_srv_count',\n",
       " 'dst_host_same_srv_rate',\n",
       " 'dst_host_same_src_port_rate']"
      ]
     },
     "execution_count": 98,
     "metadata": {},
     "output_type": "execute_result"
    }
   ],
   "source": [
    "rfc = RandomForestClassifier()\n",
    "\n",
    "rfe = RFE(rfc, n_features_to_select=10)\n",
    "rfe = rfe.fit(X_train, Y_train)\n",
    "\n",
    "feature_map = [(i, v) for i, v in itertools.zip_longest(rfe.get_support(), X_train.columns)]\n",
    "selected_features = [v for i, v in feature_map if i==True]\n",
    "\n",
    "selected_features"
   ]
  },
  {
   "cell_type": "code",
   "execution_count": 99,
   "metadata": {
    "id": "5SJWi_drIAH9"
   },
   "outputs": [],
   "source": [
    "X_train = X_train[selected_features]"
   ]
  },
  {
   "cell_type": "code",
   "execution_count": 100,
   "metadata": {
    "id": "XybAX9KHKMNF"
   },
   "outputs": [],
   "source": [
    "scale = StandardScaler()\n",
    "X_train = scale.fit_transform(X_train)\n",
    "test = scale.fit_transform(test)"
   ]
  },
  {
   "cell_type": "code",
   "execution_count": 101,
   "metadata": {
    "id": "oFgPph7BKQPy"
   },
   "outputs": [],
   "source": [
    "x_train, x_test, y_train, y_test = train_test_split(X_train, Y_train, train_size=0.70, random_state=2)"
   ]
  },
  {
   "cell_type": "code",
   "execution_count": 102,
   "metadata": {
    "colab": {
     "base_uri": "https://localhost:8080/"
    },
    "id": "SEfEZ0XNPxHW",
    "outputId": "e7c4eb86-8449-4ee5-ccd7-75308e4a07a4"
   },
   "outputs": [
    {
     "data": {
      "text/plain": [
       "(17634, 10)"
      ]
     },
     "execution_count": 102,
     "metadata": {},
     "output_type": "execute_result"
    }
   ],
   "source": [
    "x_train.shape"
   ]
  },
  {
   "cell_type": "code",
   "execution_count": 103,
   "metadata": {
    "colab": {
     "base_uri": "https://localhost:8080/"
    },
    "id": "fpuItU4YP6GI",
    "outputId": "9d4586f3-568d-4ab9-df42-f0acb46233b4"
   },
   "outputs": [
    {
     "data": {
      "text/plain": [
       "(7558, 10)"
      ]
     },
     "execution_count": 103,
     "metadata": {},
     "output_type": "execute_result"
    }
   ],
   "source": [
    "x_test.shape"
   ]
  },
  {
   "cell_type": "code",
   "execution_count": 104,
   "metadata": {
    "colab": {
     "base_uri": "https://localhost:8080/"
    },
    "id": "uoPQFo8OP8mV",
    "outputId": "67271180-72c3-4895-89bf-46237914257b"
   },
   "outputs": [
    {
     "data": {
      "text/plain": [
       "(17634,)"
      ]
     },
     "execution_count": 104,
     "metadata": {},
     "output_type": "execute_result"
    }
   ],
   "source": [
    "y_train.shape"
   ]
  },
  {
   "cell_type": "code",
   "execution_count": 105,
   "metadata": {
    "colab": {
     "base_uri": "https://localhost:8080/"
    },
    "id": "SkZ7g6NJP__q",
    "outputId": "068ec887-575b-4c12-dfa2-2913327fdbc7"
   },
   "outputs": [
    {
     "data": {
      "text/plain": [
       "(7558,)"
      ]
     },
     "execution_count": 105,
     "metadata": {},
     "output_type": "execute_result"
    }
   ],
   "source": [
    "y_test.shape"
   ]
  },
  {
   "cell_type": "code",
   "execution_count": null,
   "metadata": {
    "id": "WWgEDZAAPePK"
   },
   "outputs": [],
   "source": []
  },
  {
   "cell_type": "code",
   "execution_count": null,
   "metadata": {
    "id": "e5U4xJe3QCyB"
   },
   "outputs": [],
   "source": []
  },
  {
   "cell_type": "code",
   "execution_count": 106,
   "metadata": {
    "id": "Xk-loIvmPjJ7"
   },
   "outputs": [],
   "source": [
    "import time"
   ]
  },
  {
   "cell_type": "code",
   "execution_count": 107,
   "metadata": {
    "colab": {
     "base_uri": "https://localhost:8080/"
    },
    "id": "IoY0WU1cPe0a",
    "outputId": "bb8164a2-bbca-42a2-fe53-3f55dff5a82f"
   },
   "outputs": [
    {
     "name": "stdout",
     "output_type": "stream",
     "text": [
      "Training time:  0.18047523498535156\n"
     ]
    }
   ],
   "source": [
    "from sklearn.linear_model import LogisticRegression\n",
    "  \n",
    "clfl = LogisticRegression(max_iter = 1200000)\n",
    "start_time = time.time()\n",
    "clfl.fit(x_train, y_train.values.ravel())\n",
    "end_time = time.time()\n",
    "print(\"Training time: \", end_time-start_time)\n",
    " "
   ]
  },
  {
   "cell_type": "code",
   "execution_count": 108,
   "metadata": {
    "colab": {
     "base_uri": "https://localhost:8080/"
    },
    "id": "mpBzmlzgQKXC",
    "outputId": "21d9b387-6cd5-44fa-de2d-8d7bfe7fbac3"
   },
   "outputs": [
    {
     "name": "stdout",
     "output_type": "stream",
     "text": [
      "Testing time:  0.005006551742553711\n"
     ]
    }
   ],
   "source": [
    "start_time = time.time()\n",
    "y_test_pred = clfl.predict(x_train)\n",
    "end_time = time.time()\n",
    "print(\"Testing time: \", end_time-start_time)"
   ]
  },
  {
   "cell_type": "code",
   "execution_count": 109,
   "metadata": {
    "colab": {
     "base_uri": "https://localhost:8080/"
    },
    "id": "PZtTjM0-KUpA",
    "outputId": "771c1fba-b885-43f1-de05-ec7bef3d65d5"
   },
   "outputs": [
    {
     "data": {
      "text/html": [
       "<style>#sk-container-id-2 {color: black;}#sk-container-id-2 pre{padding: 0;}#sk-container-id-2 div.sk-toggleable {background-color: white;}#sk-container-id-2 label.sk-toggleable__label {cursor: pointer;display: block;width: 100%;margin-bottom: 0;padding: 0.3em;box-sizing: border-box;text-align: center;}#sk-container-id-2 label.sk-toggleable__label-arrow:before {content: \"▸\";float: left;margin-right: 0.25em;color: #696969;}#sk-container-id-2 label.sk-toggleable__label-arrow:hover:before {color: black;}#sk-container-id-2 div.sk-estimator:hover label.sk-toggleable__label-arrow:before {color: black;}#sk-container-id-2 div.sk-toggleable__content {max-height: 0;max-width: 0;overflow: hidden;text-align: left;background-color: #f0f8ff;}#sk-container-id-2 div.sk-toggleable__content pre {margin: 0.2em;color: black;border-radius: 0.25em;background-color: #f0f8ff;}#sk-container-id-2 input.sk-toggleable__control:checked~div.sk-toggleable__content {max-height: 200px;max-width: 100%;overflow: auto;}#sk-container-id-2 input.sk-toggleable__control:checked~label.sk-toggleable__label-arrow:before {content: \"▾\";}#sk-container-id-2 div.sk-estimator input.sk-toggleable__control:checked~label.sk-toggleable__label {background-color: #d4ebff;}#sk-container-id-2 div.sk-label input.sk-toggleable__control:checked~label.sk-toggleable__label {background-color: #d4ebff;}#sk-container-id-2 input.sk-hidden--visually {border: 0;clip: rect(1px 1px 1px 1px);clip: rect(1px, 1px, 1px, 1px);height: 1px;margin: -1px;overflow: hidden;padding: 0;position: absolute;width: 1px;}#sk-container-id-2 div.sk-estimator {font-family: monospace;background-color: #f0f8ff;border: 1px dotted black;border-radius: 0.25em;box-sizing: border-box;margin-bottom: 0.5em;}#sk-container-id-2 div.sk-estimator:hover {background-color: #d4ebff;}#sk-container-id-2 div.sk-parallel-item::after {content: \"\";width: 100%;border-bottom: 1px solid gray;flex-grow: 1;}#sk-container-id-2 div.sk-label:hover label.sk-toggleable__label {background-color: #d4ebff;}#sk-container-id-2 div.sk-serial::before {content: \"\";position: absolute;border-left: 1px solid gray;box-sizing: border-box;top: 0;bottom: 0;left: 50%;z-index: 0;}#sk-container-id-2 div.sk-serial {display: flex;flex-direction: column;align-items: center;background-color: white;padding-right: 0.2em;padding-left: 0.2em;position: relative;}#sk-container-id-2 div.sk-item {position: relative;z-index: 1;}#sk-container-id-2 div.sk-parallel {display: flex;align-items: stretch;justify-content: center;background-color: white;position: relative;}#sk-container-id-2 div.sk-item::before, #sk-container-id-2 div.sk-parallel-item::before {content: \"\";position: absolute;border-left: 1px solid gray;box-sizing: border-box;top: 0;bottom: 0;left: 50%;z-index: -1;}#sk-container-id-2 div.sk-parallel-item {display: flex;flex-direction: column;z-index: 1;position: relative;background-color: white;}#sk-container-id-2 div.sk-parallel-item:first-child::after {align-self: flex-end;width: 50%;}#sk-container-id-2 div.sk-parallel-item:last-child::after {align-self: flex-start;width: 50%;}#sk-container-id-2 div.sk-parallel-item:only-child::after {width: 0;}#sk-container-id-2 div.sk-dashed-wrapped {border: 1px dashed gray;margin: 0 0.4em 0.5em 0.4em;box-sizing: border-box;padding-bottom: 0.4em;background-color: white;}#sk-container-id-2 div.sk-label label {font-family: monospace;font-weight: bold;display: inline-block;line-height: 1.2em;}#sk-container-id-2 div.sk-label-container {text-align: center;}#sk-container-id-2 div.sk-container {/* jupyter's `normalize.less` sets `[hidden] { display: none; }` but bootstrap.min.css set `[hidden] { display: none !important; }` so we also need the `!important` here to be able to override the default hidden behavior on the sphinx rendered scikit-learn.org. See: https://github.com/scikit-learn/scikit-learn/issues/21755 */display: inline-block !important;position: relative;}#sk-container-id-2 div.sk-text-repr-fallback {display: none;}</style><div id=\"sk-container-id-2\" class=\"sk-top-container\"><div class=\"sk-text-repr-fallback\"><pre>LogisticRegression(random_state=42)</pre><b>In a Jupyter environment, please rerun this cell to show the HTML representation or trust the notebook. <br />On GitHub, the HTML representation is unable to render, please try loading this page with nbviewer.org.</b></div><div class=\"sk-container\" hidden><div class=\"sk-item\"><div class=\"sk-estimator sk-toggleable\"><input class=\"sk-toggleable__control sk-hidden--visually\" id=\"sk-estimator-id-2\" type=\"checkbox\" checked><label for=\"sk-estimator-id-2\" class=\"sk-toggleable__label sk-toggleable__label-arrow\">LogisticRegression</label><div class=\"sk-toggleable__content\"><pre>LogisticRegression(random_state=42)</pre></div></div></div></div></div>"
      ],
      "text/plain": [
       "LogisticRegression(random_state=42)"
      ]
     },
     "execution_count": 109,
     "metadata": {},
     "output_type": "execute_result"
    }
   ],
   "source": [
    "lg_model = LogisticRegression(random_state = 42)\n",
    "lg_model.fit(x_train, y_train)"
   ]
  },
  {
   "cell_type": "code",
   "execution_count": 110,
   "metadata": {
    "colab": {
     "base_uri": "https://localhost:8080/"
    },
    "id": "qFyyThhGKXWN",
    "outputId": "e1d192b0-4bc6-460a-9bdf-05c651592326"
   },
   "outputs": [
    {
     "name": "stdout",
     "output_type": "stream",
     "text": [
      "Training Score: 0.9418169445389588\n",
      "Test Score: 0.938872717650172\n"
     ]
    }
   ],
   "source": [
    "lg_train, lg_test = lg_model.score(x_train , y_train), lg_model.score(x_test , y_test)\n",
    "\n",
    "print(f\"Training Score: {lg_train}\")\n",
    "print(f\"Test Score: {lg_test}\")"
   ]
  },
  {
   "cell_type": "code",
   "execution_count": null,
   "metadata": {
    "id": "A4_aD321KZ8t"
   },
   "outputs": [],
   "source": []
  },
  {
   "cell_type": "code",
   "execution_count": null,
   "metadata": {
    "id": "C--bhOKLLUhY"
   },
   "outputs": [],
   "source": []
  },
  {
   "cell_type": "code",
   "execution_count": 111,
   "metadata": {
    "colab": {
     "base_uri": "https://localhost:8080/"
    },
    "id": "gy-b06p7MBWr",
    "outputId": "118fbe2a-d7fe-451d-e965-e3b819717e7e"
   },
   "outputs": [
    {
     "name": "stdout",
     "output_type": "stream",
     "text": [
      "Requirement already satisfied: optuna in c:\\users\\nehas\\anaconda3\\lib\\site-packages (3.6.0)\n",
      "Requirement already satisfied: alembic>=1.5.0 in c:\\users\\nehas\\anaconda3\\lib\\site-packages (from optuna) (1.13.1)\n",
      "Requirement already satisfied: colorlog in c:\\users\\nehas\\anaconda3\\lib\\site-packages (from optuna) (6.8.2)\n",
      "Requirement already satisfied: numpy in c:\\users\\nehas\\anaconda3\\lib\\site-packages (from optuna) (1.24.3)\n",
      "Requirement already satisfied: packaging>=20.0 in c:\\users\\nehas\\anaconda3\\lib\\site-packages (from optuna) (23.1)\n",
      "Requirement already satisfied: sqlalchemy>=1.3.0 in c:\\users\\nehas\\anaconda3\\lib\\site-packages (from optuna) (1.4.39)\n",
      "Requirement already satisfied: tqdm in c:\\users\\nehas\\anaconda3\\lib\\site-packages (from optuna) (4.65.0)\n",
      "Requirement already satisfied: PyYAML in c:\\users\\nehas\\anaconda3\\lib\\site-packages (from optuna) (6.0)\n",
      "Requirement already satisfied: Mako in c:\\users\\nehas\\anaconda3\\lib\\site-packages (from alembic>=1.5.0->optuna) (1.3.2)\n",
      "Requirement already satisfied: typing-extensions>=4 in c:\\users\\nehas\\anaconda3\\lib\\site-packages (from alembic>=1.5.0->optuna) (4.7.1)\n",
      "Requirement already satisfied: greenlet!=0.4.17 in c:\\users\\nehas\\anaconda3\\lib\\site-packages (from sqlalchemy>=1.3.0->optuna) (2.0.1)\n",
      "Requirement already satisfied: colorama in c:\\users\\nehas\\anaconda3\\lib\\site-packages (from colorlog->optuna) (0.4.6)\n",
      "Requirement already satisfied: MarkupSafe>=0.9.2 in c:\\users\\nehas\\anaconda3\\lib\\site-packages (from Mako->alembic>=1.5.0->optuna) (2.1.1)\n",
      "Note: you may need to restart the kernel to use updated packages.\n"
     ]
    }
   ],
   "source": [
    "pip install optuna"
   ]
  },
  {
   "cell_type": "code",
   "execution_count": 112,
   "metadata": {
    "id": "fgBSFobzMXFG"
   },
   "outputs": [],
   "source": [
    "import optuna\n",
    "optuna.logging.set_verbosity(optuna.logging.WARNING)"
   ]
  },
  {
   "cell_type": "code",
   "execution_count": null,
   "metadata": {
    "id": "baa4sQhkQTiQ"
   },
   "outputs": [],
   "source": []
  },
  {
   "cell_type": "code",
   "execution_count": null,
   "metadata": {
    "id": "vUuyGUB8QTBj"
   },
   "outputs": [],
   "source": []
  },
  {
   "cell_type": "code",
   "execution_count": null,
   "metadata": {
    "id": "tM0f_Q3LQlVO"
   },
   "outputs": [],
   "source": []
  },
  {
   "cell_type": "code",
   "execution_count": 113,
   "metadata": {
    "id": "B5VXAxXgMshD"
   },
   "outputs": [],
   "source": [
    "def objective(trial):\n",
    "    n_neighbors = trial.suggest_int('KNN_n_neighbors', 2, 16, log=False)\n",
    "    classifier_obj = KNeighborsClassifier(n_neighbors=n_neighbors)\n",
    "    classifier_obj.fit(x_train, y_train)\n",
    "    accuracy = classifier_obj.score(x_test, y_test)\n",
    "    return accuracy"
   ]
  },
  {
   "cell_type": "code",
   "execution_count": 114,
   "metadata": {
    "colab": {
     "base_uri": "https://localhost:8080/"
    },
    "id": "Xe1n5-LKOa-H",
    "outputId": "89de7cc3-22be-4374-c59e-38520defd962"
   },
   "outputs": [
    {
     "name": "stdout",
     "output_type": "stream",
     "text": [
      "FrozenTrial(number=0, state=1, values=[0.9792273088118549], datetime_start=datetime.datetime(2024, 3, 24, 14, 27, 44, 291939), datetime_complete=datetime.datetime(2024, 3, 24, 14, 27, 45, 752458), params={'KNN_n_neighbors': 15}, user_attrs={}, system_attrs={}, intermediate_values={}, distributions={'KNN_n_neighbors': IntDistribution(high=16, log=False, low=2, step=1)}, trial_id=0, value=None)\n"
     ]
    }
   ],
   "source": [
    "study_KNN = optuna.create_study(direction='maximize')\n",
    "study_KNN.optimize(objective, n_trials=1)\n",
    "print(study_KNN.best_trial)"
   ]
  },
  {
   "cell_type": "code",
   "execution_count": 115,
   "metadata": {
    "colab": {
     "base_uri": "https://localhost:8080/"
    },
    "id": "ILU3zF_tOcf5",
    "outputId": "5b8273d9-b5f5-41b9-cb51-2c626fc69310"
   },
   "outputs": [
    {
     "name": "stdout",
     "output_type": "stream",
     "text": [
      "Train Score: 0.9786208460927753\n",
      "Test Score: 0.9792273088118549\n"
     ]
    }
   ],
   "source": [
    "KNN_model = KNeighborsClassifier(n_neighbors=study_KNN.best_trial.params['KNN_n_neighbors'])\n",
    "KNN_model.fit(x_train, y_train)\n",
    "\n",
    "KNN_train, KNN_test = KNN_model.score(x_train, y_train), KNN_model.score(x_test, y_test)\n",
    "\n",
    "print(f\"Train Score: {KNN_train}\")\n",
    "print(f\"Test Score: {KNN_test}\")"
   ]
  },
  {
   "cell_type": "code",
   "execution_count": null,
   "metadata": {
    "id": "QzYm4qb_OfTt"
   },
   "outputs": [],
   "source": []
  },
  {
   "cell_type": "code",
   "execution_count": null,
   "metadata": {
    "id": "P_yziz0zOkP_"
   },
   "outputs": [],
   "source": []
  },
  {
   "cell_type": "code",
   "execution_count": 116,
   "metadata": {
    "colab": {
     "base_uri": "https://localhost:8080/"
    },
    "id": "pmi1fxFZQUuu",
    "outputId": "4da54d06-0da7-4d87-8541-d2c8f5445849"
   },
   "outputs": [
    {
     "name": "stdout",
     "output_type": "stream",
     "text": [
      "Training time:  0.04872012138366699\n"
     ]
    }
   ],
   "source": [
    "from sklearn.tree import DecisionTreeClassifier\n",
    "  \n",
    "clfd = DecisionTreeClassifier(criterion =\"entropy\", max_depth = 4)\n",
    "start_time = time.time()\n",
    "clfd.fit(x_train, y_train.values.ravel())\n",
    "end_time = time.time()\n",
    "print(\"Training time: \", end_time-start_time)"
   ]
  },
  {
   "cell_type": "code",
   "execution_count": 117,
   "metadata": {
    "colab": {
     "base_uri": "https://localhost:8080/"
    },
    "id": "oiXZsQRlQaMm",
    "outputId": "91b7dbce-3428-42fc-ab26-0a85b0a68b8c"
   },
   "outputs": [
    {
     "name": "stdout",
     "output_type": "stream",
     "text": [
      "Testing time:  0.002999544143676758\n"
     ]
    }
   ],
   "source": [
    "start_time = time.time()\n",
    "y_test_pred = clfd.predict(x_train)\n",
    "end_time = time.time()\n",
    "print(\"Testing time: \", end_time-start_time)"
   ]
  },
  {
   "cell_type": "code",
   "execution_count": 118,
   "metadata": {
    "id": "ZYEqgET3OlOs"
   },
   "outputs": [],
   "source": [
    "def objective(trial):\n",
    "    dt_max_depth = trial.suggest_int('dt_max_depth', 2, 32, log=False)\n",
    "    dt_max_features = trial.suggest_int('dt_max_features', 2, 10, log=False)\n",
    "    classifier_obj = DecisionTreeClassifier(max_features = dt_max_features, max_depth = dt_max_depth)\n",
    "    classifier_obj.fit(x_train, y_train)\n",
    "    accuracy = classifier_obj.score(x_test, y_test)\n",
    "    return accuracy"
   ]
  },
  {
   "cell_type": "code",
   "execution_count": 119,
   "metadata": {
    "colab": {
     "base_uri": "https://localhost:8080/"
    },
    "id": "Yag7e4lMOlwq",
    "outputId": "f7f724fb-f494-41d7-91e7-bc5b04603b7c"
   },
   "outputs": [
    {
     "name": "stdout",
     "output_type": "stream",
     "text": [
      "FrozenTrial(number=2, state=1, values=[0.9951045250066155], datetime_start=datetime.datetime(2024, 3, 24, 14, 27, 51, 617740), datetime_complete=datetime.datetime(2024, 3, 24, 14, 27, 51, 685214), params={'dt_max_depth': 32, 'dt_max_features': 9}, user_attrs={}, system_attrs={}, intermediate_values={}, distributions={'dt_max_depth': IntDistribution(high=32, log=False, low=2, step=1), 'dt_max_features': IntDistribution(high=10, log=False, low=2, step=1)}, trial_id=2, value=None)\n"
     ]
    }
   ],
   "source": [
    "study_dt = optuna.create_study(direction='maximize')\n",
    "study_dt.optimize(objective, n_trials=30)\n",
    "print(study_dt.best_trial)"
   ]
  },
  {
   "cell_type": "code",
   "execution_count": 120,
   "metadata": {
    "colab": {
     "base_uri": "https://localhost:8080/"
    },
    "id": "HeR3qWf6On6k",
    "outputId": "cbee9a4c-bb84-4484-c5be-09eb5e837c63"
   },
   "outputs": [
    {
     "name": "stdout",
     "output_type": "stream",
     "text": [
      "Train Score: 1.0\n",
      "Test Score: 0.9939137337920084\n"
     ]
    }
   ],
   "source": [
    "dt = DecisionTreeClassifier(max_features = study_dt.best_trial.params['dt_max_features'], max_depth = study_dt.best_trial.params['dt_max_depth'])\n",
    "dt.fit(x_train, y_train)\n",
    "\n",
    "dt_train, dt_test = dt.score(x_train, y_train), dt.score(x_test, y_test)\n",
    "\n",
    "print(f\"Train Score: {dt_train}\")\n",
    "print(f\"Test Score: {dt_test}\")\n",
    "#from sklearn.tree import DecisionTreeClassifier\n",
    "\n",
    "#dt = DecisionTreeClassifier(max_features=study_dt.best_trial.params['dt_max_features'],\n",
    " #                           max_depth=study_dt.best_trial.params['dt_max_depth'])\n",
    "#dt.fit(x_train, y_train)\n",
    "\n",
    "#dt_train_score = dt.score(x_train, y_train)\n",
    "#dt_test_score = dt.score(x_test, y_test)\n",
    "\n",
    "#print(f\"Train Score: {dt_train_score}\")\n",
    "#print(f\"Test Score: {dt_test_score}\")\n",
    "\n"
   ]
  },
  {
   "cell_type": "code",
   "execution_count": 121,
   "metadata": {
    "colab": {
     "base_uri": "https://localhost:8080/"
    },
    "id": "EM17GVmMOqaq",
    "outputId": "42036426-0271-49aa-86d8-5b5e9963acde"
   },
   "outputs": [
    {
     "name": "stdout",
     "output_type": "stream",
     "text": [
      "╒═════════════════════╤═══════════════╤══════════════╕\n",
      "│ Model               │   Train Score │   Test Score │\n",
      "╞═════════════════════╪═══════════════╪══════════════╡\n",
      "│ KNN                 │      0.978621 │     0.979227 │\n",
      "├─────────────────────┼───────────────┼──────────────┤\n",
      "│ Logistic Regression │      0.941817 │     0.938873 │\n",
      "├─────────────────────┼───────────────┼──────────────┤\n",
      "│ Decision Tree       │      1        │     0.993914 │\n",
      "╘═════════════════════╧═══════════════╧══════════════╛\n"
     ]
    }
   ],
   "source": [
    "from tabulate import tabulate\n",
    "data = [[\"KNN\", KNN_train, KNN_test], \n",
    "        [\"Logistic Regression\", lg_train, lg_test],\n",
    "        [\"Decision Tree\", dt_train, dt_test]]\n",
    "\n",
    "col_names = [\"Model\", \"Train Score\", \"Test Score\"]\n",
    "print(tabulate(data, headers=col_names, tablefmt=\"fancy_grid\"))"
   ]
  },
  {
   "cell_type": "code",
   "execution_count": null,
   "metadata": {
    "id": "4aiIRTXTOtv3"
   },
   "outputs": [],
   "source": []
  },
  {
   "cell_type": "code",
   "execution_count": null,
   "metadata": {
    "id": "MYLAqDX3RkZS"
   },
   "outputs": [],
   "source": []
  },
  {
   "cell_type": "code",
   "execution_count": 122,
   "metadata": {
    "id": "EPHitadgRkWR"
   },
   "outputs": [],
   "source": [
    "SEED = 42\n",
    "\n",
    "# Decision Tree Model\n",
    "dtc = DecisionTreeClassifier()\n",
    "\n",
    "# KNN\n",
    "knn = KNeighborsClassifier()\n",
    "\n",
    "# LOGISTIC REGRESSION MODEL\n",
    "\n",
    "lr = LogisticRegression()"
   ]
  },
  {
   "cell_type": "code",
   "execution_count": 123,
   "metadata": {
    "id": "2xj6jXP6RvEE"
   },
   "outputs": [],
   "source": [
    "from sklearn.model_selection import cross_val_score\n",
    "models = {}\n",
    "models['KNeighborsClassifier']= knn\n",
    "models['LogisticRegression']= lr\n",
    "models['DecisionTreeClassifier']= dtc"
   ]
  },
  {
   "cell_type": "code",
   "execution_count": 124,
   "metadata": {
    "id": "fB1q6U1OR1_H"
   },
   "outputs": [],
   "source": [
    "scores = {}\n",
    "for name in models:\n",
    "  scores[name]={}\n",
    "  for scorer in ['precision','recall']:\n",
    "    scores[name][scorer] = cross_val_score(models[name], x_train, y_train, cv=10, scoring=scorer)"
   ]
  },
  {
   "cell_type": "code",
   "execution_count": 125,
   "metadata": {
    "colab": {
     "base_uri": "https://localhost:8080/"
    },
    "id": "A2YwpZexR8Af",
    "outputId": "f09d67b5-7d45-40fe-f582-6346a4fce461"
   },
   "outputs": [
    {
     "name": "stdout",
     "output_type": "stream",
     "text": [
      "*************** KNeighborsClassifier Model Validation ***************\n",
      "Mean precision: \n",
      " 98.39 % +- 0.41\n",
      "\n",
      "Mean recall: \n",
      " 98.3 % +- 0.44\n",
      "\n",
      "**************** LogisticRegression Model Validation ****************\n",
      "Mean precision: \n",
      " 93.57 % +- 0.63\n",
      "\n",
      "Mean recall: \n",
      " 95.64 % +- 0.6\n",
      "\n",
      "************** DecisionTreeClassifier Model Validation **************\n",
      "Mean precision: \n",
      " 99.45 % +- 0.21\n",
      "\n",
      "Mean recall: \n",
      " 99.42 % +- 0.23\n",
      "\n"
     ]
    }
   ],
   "source": [
    "def line(name):\n",
    "  return '*'*(25-len(name)//2)\n",
    "\n",
    "for name in models:\n",
    "  print(line(name), name, 'Model Validation', line(name))\n",
    "\n",
    "  for scorer in ['precision','recall']:\n",
    "    mean = round(np.mean(scores[name][scorer])*100,2)\n",
    "    stdev = round(np.std(scores[name][scorer])*100,2)\n",
    "    print (\"Mean {}:\".format(scorer),\"\\n\", mean,\"%\", \"+-\",stdev)\n",
    "    print()"
   ]
  },
  {
   "cell_type": "code",
   "execution_count": 126,
   "metadata": {
    "colab": {
     "base_uri": "https://localhost:8080/",
     "height": 324
    },
    "id": "MlTIBbkDSA_T",
    "outputId": "699c6d7a-3257-45b1-af08-52982e0336d2"
   },
   "outputs": [
    {
     "data": {
      "text/plain": [
       "<Axes: >"
      ]
     },
     "execution_count": 126,
     "metadata": {},
     "output_type": "execute_result"
    },
    {
     "data": {
      "image/png": "[encoded data removed]",
      "text/plain": [
       "<Figure size 2400x600 with 1 Axes>"
      ]
     },
     "metadata": {},
     "output_type": "display_data"
    }
   ],
   "source": [
    "for name in models:\n",
    "    for scorer in ['precision','recall']:\n",
    "        scores[name][scorer] = scores[name][scorer].mean()\n",
    "scores=pd.DataFrame(scores).swapaxes(\"index\", \"columns\")*100\n",
    "scores.plot(kind = \"bar\",  ylim=[80,100], figsize=(24,6), rot=0)"
   ]
  },
  {
   "cell_type": "code",
   "execution_count": 127,
   "metadata": {
    "id": "Qe4zULwiSGAB"
   },
   "outputs": [],
   "source": [
    "models = {}\n",
    "models['KNeighborsClassifier']= knn\n",
    "models['LogisticRegression']= lr\n",
    "models['DecisionTreeClassifier']= dtc"
   ]
  },
  {
   "cell_type": "code",
   "execution_count": 128,
   "metadata": {
    "colab": {
     "base_uri": "https://localhost:8080/"
    },
    "id": "PpYv5H2mSQ8p",
    "outputId": "af1f101e-8b35-44e1-e1b6-3bbf82acbadc"
   },
   "outputs": [
    {
     "name": "stdout",
     "output_type": "stream",
     "text": [
      "Predictions complete.\n"
     ]
    }
   ],
   "source": [
    "preds={}\n",
    "for name in models:\n",
    "    models[name].fit(x_train, y_train)\n",
    "    preds[name] = models[name].predict(x_test)\n",
    "print(\"Predictions complete.\")"
   ]
  },
  {
   "cell_type": "code",
   "execution_count": 129,
   "metadata": {
    "colab": {
     "base_uri": "https://localhost:8080/"
    },
    "id": "du3BvUIESVDf",
    "outputId": "ca325390-3ae6-4307-8b2a-9b10ec469c47"
   },
   "outputs": [
    {
     "name": "stdout",
     "output_type": "stream",
     "text": [
      "*************** KNeighborsClassifier Model Testing ***************\n",
      "[[3423   75]\n",
      " [  57 4003]]\n",
      "---------------\n",
      "              precision    recall  f1-score   support\n",
      "\n",
      "      normal       0.98      0.98      0.98      3498\n",
      "     anamoly       0.98      0.99      0.98      4060\n",
      "\n",
      "    accuracy                           0.98      7558\n",
      "   macro avg       0.98      0.98      0.98      7558\n",
      "weighted avg       0.98      0.98      0.98      7558\n",
      "\n",
      "**************** LogisticRegression Model Testing ****************\n",
      "[[3224  274]\n",
      " [ 188 3872]]\n",
      "----------------\n",
      "              precision    recall  f1-score   support\n",
      "\n",
      "      normal       0.94      0.92      0.93      3498\n",
      "     anamoly       0.93      0.95      0.94      4060\n",
      "\n",
      "    accuracy                           0.94      7558\n",
      "   macro avg       0.94      0.94      0.94      7558\n",
      "weighted avg       0.94      0.94      0.94      7558\n",
      "\n",
      "************** DecisionTreeClassifier Model Testing **************\n",
      "[[3479   19]\n",
      " [  21 4039]]\n",
      "--------------\n",
      "              precision    recall  f1-score   support\n",
      "\n",
      "      normal       0.99      0.99      0.99      3498\n",
      "     anamoly       1.00      0.99      1.00      4060\n",
      "\n",
      "    accuracy                           0.99      7558\n",
      "   macro avg       0.99      0.99      0.99      7558\n",
      "weighted avg       0.99      0.99      0.99      7558\n",
      "\n"
     ]
    }
   ],
   "source": [
    "from sklearn.metrics import confusion_matrix, classification_report, f1_score\n",
    "def line(name,sym=\"*\"):\n",
    "    return sym*(25-len(name)//2)\n",
    "target_names=[\"normal\",\"anamoly\"]\n",
    "for name in models:\n",
    "    print(line(name), name, 'Model Testing', line(name))\n",
    "    print(confusion_matrix(y_test, preds[name]))\n",
    "    print(line(name,'-'))\n",
    "    print(classification_report(y_test, preds[name], target_names=target_names))"
   ]
  },
  {
   "cell_type": "code",
   "execution_count": 130,
   "metadata": {
    "colab": {
     "base_uri": "https://localhost:8080/",
     "height": 395
    },
    "id": "MP6TXWpUSdFw",
    "outputId": "00d19df6-6c97-4fb2-cb61-7c51ce7c73f7"
   },
   "outputs": [
    {
     "data": {
      "text/plain": [
       "<Axes: >"
      ]
     },
     "execution_count": 130,
     "metadata": {},
     "output_type": "execute_result"
    },
    {
     "data": {
      "image/png": "[encoded data removed]",
      "text/plain": [
       "<Figure size 1000x600 with 1 Axes>"
      ]
     },
     "metadata": {},
     "output_type": "display_data"
    }
   ],
   "source": [
    "f1s = {}\n",
    "for name in models:\n",
    "    f1s[name]=f1_score(y_test, preds[name])\n",
    "f1s=pd.DataFrame(f1s.values(),index=f1s.keys(),columns=[\"F1-score\"])*100\n",
    "f1s.plot(kind = \"bar\",  ylim=[80,100], figsize=(10,6), rot=0)"
   ]
  },
  {
   "cell_type": "code",
   "execution_count": 131,
   "metadata": {
    "id": "Hrlo5oioSm-0"
   },
   "outputs": [],
   "source": [
    "import pickle"
   ]
  },
  {
   "cell_type": "code",
   "execution_count": 132,
   "metadata": {},
   "outputs": [],
   "source": [
    "pickle.dump(lr,open('network.pkl','wb'))"
   ]
  },
  {
   "cell_type": "code",
   "execution_count": 133,
   "metadata": {},
   "outputs": [],
   "source": [
    "pickle_model=pickle.load(open('network.pkl','rb'))"
   ]
  },
  {
   "cell_type": "code",
   "execution_count": 136,
   "metadata": {},
   "outputs": [
    {
     "ename": "AttributeError",
     "evalue": "'numpy.ndarray' object has no attribute 'head'",
     "output_type": "error",
     "traceback": [
      "\u001b[1;31m---------------------------------------------------------------------------\u001b[0m",
      "\u001b[1;31mAttributeError\u001b[0m                            Traceback (most recent call last)",
      "Cell \u001b[1;32mIn[136], line 7\u001b[0m\n\u001b[0;32m      4\u001b[0m \u001b[38;5;66;03m# Load your data into a DataFrame, assuming 'test' is your data\u001b[39;00m\n\u001b[0;32m      5\u001b[0m test_data \u001b[38;5;241m=\u001b[39m pd\u001b[38;5;241m.\u001b[39mDataFrame(test)  \u001b[38;5;66;03m# Replace test_data with your actual data\u001b[39;00m\n\u001b[1;32m----> 7\u001b[0m \u001b[38;5;28mprint\u001b[39m(test\u001b[38;5;241m.\u001b[39mhead())\n\u001b[0;32m      8\u001b[0m \u001b[38;5;28mprint\u001b[39m(test[:\u001b[38;5;241m5\u001b[39m])\n\u001b[0;32m      9\u001b[0m \u001b[38;5;28mprint\u001b[39m(test\u001b[38;5;241m.\u001b[39mshape())\n",
      "\u001b[1;31mAttributeError\u001b[0m: 'numpy.ndarray' object has no attribute 'head'"
     ]
    }
   ],
   "source": [
    "import pandas as pd\n",
    "import numpy as np\n",
    "\n",
    "# Load your data into a DataFrame, assuming 'test' is your data\n",
    "test_data = pd.DataFrame(test)  # Replace test_data with your actual data\n",
    "\n",
    "print(test.head())\n",
    "print(test[:5])\n",
    "print(test.shape())\n",
    "data_row = test.iloc[0].values.reshape(1, -1)\n",
    "scaled_data = scale.transform(data_row)\n",
    "prediction = pickle_model.predict(scaled_data)  # Removed extra parentheses here\n",
    "\n",
    "\n"
   ]
  },
  {
   "cell_type": "code",
   "execution_count": null,
   "metadata": {},
   "outputs": [
    {
     "name": "stdout",
     "output_type": "stream",
     "text": [
      "Recommended Security Measures:\n"
     ]
    }
   ],
   "source": [
    "def recommend_security_measures(compromised_network_data):\n",
    "    # Placeholder functions for analyzing different aspects of network data\n",
    "    def analyze_protocol_type(data):\n",
    "        # Analyze protocol types (e.g., TCP, UDP) for anomalies\n",
    "        # Replace this with your actual analysis logic\n",
    "        return False  # Placeholder return\n",
    "    \n",
    "    def analyze_service(data):\n",
    "        # Analyze service types (e.g., http, ftp) for anomalies\n",
    "        # Replace this with your actual analysis logic\n",
    "        return False  # Placeholder return\n",
    "    \n",
    "    def analyze_flag(data):\n",
    "        # Analyze flags (e.g., SF, S0) for anomalies\n",
    "        # Replace this with your actual analysis logic\n",
    "        return False  # Placeholder return\n",
    "    \n",
    "    # Analyze the compromised network data and determine security measures\n",
    "    security_recommendations = []\n",
    "    \n",
    "    if analyze_protocol_type(compromised_network_data):\n",
    "        security_recommendations.append(\"Investigate anomalies in protocol types\")\n",
    "    \n",
    "    if analyze_service(compromised_network_data):\n",
    "        security_recommendations.append(\"Investigate anomalies in service types\")\n",
    "    \n",
    "    if analyze_flag(compromised_network_data):\n",
    "        security_recommendations.append(\"Investigate anomalies in flags\")\n",
    "    \n",
    "    # You can add more analysis functions for other features here\n",
    "    \n",
    "    return security_recommendations\n",
    "\n",
    "# Example function call:\n",
    "compromised_network_data = {\n",
    "    'protocol_type': ['TCP', 'UDP', 'TCP', 'ICMP'],\n",
    "    'service': ['http', 'ftp', 'ssh', 'http'],\n",
    "    'flag': ['SF', 'RST', 'SF', 'RST'],\n",
    "}  # Your compromised network data\n",
    "recommended_measures = recommend_security_measures(compromised_network_data)\n",
    "print(\"Recommended Security Measures:\")\n",
    "for measure in recommended_measures:\n",
    "    print(\"-\", measure)\n"
   ]
  },
  {
   "cell_type": "code",
   "execution_count": null,
   "metadata": {},
   "outputs": [
    {
     "name": "stdout",
     "output_type": "stream",
     "text": [
      "Recommended Security Measures:\n",
      "- Anomalies detected in protocol types: ['TCP', 'UDP', 'TCP', 'ICMP']\n",
      "- Anomalies detected in service types: ['http', 'ftp', 'ssh', 'http']\n",
      "- Anomalies detected in flags: ['SF', 'RST', 'SF', 'RST']\n"
     ]
    }
   ],
   "source": [
    "def recommend_security_measures(compromised_network_data):\n",
    "    # Placeholder functions for analyzing different aspects of network data\n",
    "    def analyze_protocol_type(data):\n",
    "        # Anomaly detected if any protocol type other than 'TCP' is found\n",
    "        if any(protocol != 'TCP' for protocol in data['protocol_type']):\n",
    "            return \"Anomalies detected in protocol types: {}\".format(data['protocol_type'])\n",
    "        else:\n",
    "            return None\n",
    "    \n",
    "    def analyze_service(data):\n",
    "        # Anomaly detected if 'http' service is found\n",
    "        if any(service == 'http' for service in data['service']):\n",
    "            return \"Anomalies detected in service types: {}\".format(data['service'])\n",
    "        else:\n",
    "            return None\n",
    "    \n",
    "    def analyze_flag(data):\n",
    "        # Anomaly detected if 'SF' flag is found\n",
    "        if any(flag == 'SF' for flag in data['flag']):\n",
    "            return \"Anomalies detected in flags: {}\".format(data['flag'])\n",
    "        else:\n",
    "            return None\n",
    "    \n",
    "    # Analyze the compromised network data and determine security measures\n",
    "    security_recommendations = []\n",
    "    \n",
    "    protocol_anomaly = analyze_protocol_type(compromised_network_data)\n",
    "    if protocol_anomaly:\n",
    "        security_recommendations.append(protocol_anomaly)\n",
    "    \n",
    "    service_anomaly = analyze_service(compromised_network_data)\n",
    "    if service_anomaly:\n",
    "        security_recommendations.append(service_anomaly)\n",
    "    \n",
    "    flag_anomaly = analyze_flag(compromised_network_data)\n",
    "    if flag_anomaly:\n",
    "        security_recommendations.append(flag_anomaly)\n",
    "    \n",
    "    return security_recommendations\n",
    "\n",
    "# Example function call:\n",
    "compromised_network_data = {\n",
    "    'protocol_type': ['TCP', 'UDP', 'TCP', 'ICMP'],\n",
    "    'service': ['http', 'ftp', 'ssh', 'http'],\n",
    "    'flag': ['SF', 'RST', 'SF', 'RST'],\n",
    "}  # Your compromised network data\n",
    "recommended_measures = recommend_security_measures(compromised_network_data)\n",
    "\n",
    "# Print the recommended security measures or error message\n",
    "if recommended_measures:\n",
    "    print(\"Recommended Security Measures:\")\n",
    "    for measure in recommended_measures:\n",
    "        print(\"-\", measure)\n",
    "else:\n",
    "    print(\"No security measures recommended.\")\n"
   ]
  },
  {
   "cell_type": "code",
   "execution_count": null,
   "metadata": {},
   "outputs": [
    {
     "name": "stdout",
     "output_type": "stream",
     "text": [
      "Recommended Security Measures (Train Data):\n",
      "\n",
      "Recommended Security Measures (Test Data):\n"
     ]
    }
   ],
   "source": [
    "# Define the recommend_security_measures function\n",
    "def recommend_security_measures(compromised_network_data):\n",
    "    # Placeholder functions for analyzing different aspects of network data\n",
    "    def analyze_protocol_type(data):\n",
    "        # Placeholder logic for analyzing protocol types\n",
    "        return False  # Placeholder return\n",
    "    \n",
    "    def analyze_service(data):\n",
    "        # Placeholder logic for analyzing service types\n",
    "        return False  # Placeholder return\n",
    "    \n",
    "    def analyze_flag(data):\n",
    "        # Placeholder logic for analyzing flags\n",
    "        return False  # Placeholder return\n",
    "    \n",
    "    # Analyze the compromised network data and determine security measures\n",
    "    security_recommendations = []\n",
    "    \n",
    "    if analyze_protocol_type(compromised_network_data):\n",
    "        security_recommendations.append(\"Investigate anomalies in protocol types\")\n",
    "    \n",
    "    if analyze_service(compromised_network_data):\n",
    "        security_recommendations.append(\"Investigate anomalies in service types\")\n",
    "    \n",
    "    if analyze_flag(compromised_network_data):\n",
    "        security_recommendations.append(\"Investigate anomalies in flags\")\n",
    "    \n",
    "    return security_recommendations\n",
    "\n",
    "# Example datasets (train and test)\n",
    "train_data = {\n",
    "    'protocol_type': ['TCP', 'UDP', 'TCP', 'ICMP'],\n",
    "    'service': ['http', 'ftp', 'ssh', 'http'],\n",
    "    'flag': ['SF', 'RST', 'SF', 'RST'],\n",
    "}\n",
    "\n",
    "test_data = {\n",
    "    'protocol_type': ['UDP', 'TCP', 'TCP', 'ICMP'],\n",
    "    'service': ['ftp', 'http', 'ssh', 'ftp'],\n",
    "    'flag': ['SF', 'RST', 'SF', 'RST'],\n",
    "}\n",
    "\n",
    "# Apply the recommend_security_measures function to train data\n",
    "train_recommended_measures = recommend_security_measures(train_data)\n",
    "print(\"Recommended Security Measures (Train Data):\")\n",
    "for measure in train_recommended_measures:\n",
    "    print(\"-\", measure)\n",
    "\n",
    "# Apply the recommend_security_measures function to test data\n",
    "test_recommended_measures = recommend_security_measures(test_data)\n",
    "print(\"\\nRecommended Security Measures (Test Data):\")\n",
    "for measure in test_recommended_measures:\n",
    "    print(\"-\", measure)\n",
    "\n",
    "    "
   ]
  },
  {
   "cell_type": "code",
   "execution_count": null,
   "metadata": {},
   "outputs": [
    {
     "name": "stdout",
     "output_type": "stream",
     "text": [
      "Recommended Security Measures for Train Data:\n",
      "- Investigate anomalies in protocol types\n",
      "- Investigate anomalies in service types\n",
      "- Investigate anomalies in flags\n",
      "\n",
      "Recommended Security Measures for Test Data:\n",
      "- Investigate anomalies in protocol types\n",
      "- Investigate anomalies in service types\n",
      "- Investigate anomalies in flags\n"
     ]
    }
   ],
   "source": [
    "# coreect implimentation:\n",
    "import pandas as pd\n",
    "\n",
    "# Load train and test datasets\n",
    "train=pd.read_csv(r\"C:\\Users\\nehas\\Downloads\\archive\\Train_data.csv\")\n",
    "test=pd.read_csv(r\"C:\\Users\\nehas\\Downloads\\archive\\Test_data.csv\")\n",
    "\n",
    "# Preprocessing (if necessary)\n",
    "# For example, handle missing values, encode categorical variables, scale numerical features, etc.\n",
    "\n",
    "# Ensure both datasets have the same features\n",
    "required_features = ['protocol_type', 'service', 'flag', 'src_bytes', 'dst_bytes', \n",
    "                     'count', 'same_srv_rate', 'diff_srv_rate', 'dst_host_srv_count', \n",
    "                     'dst_host_same_srv_rate']\n",
    "\n",
    "train = train[required_features]\n",
    "test= test[required_features]\n",
    "\n",
    "# Apply the recommend_security_measures function to train data\n",
    "train_recommended_measures = recommend_security_measures(train)\n",
    "print(\"Recommended Security Measures for Train Data:\")\n",
    "for measure in train_recommended_measures:\n",
    "    print(\"-\", measure)\n",
    "\n",
    "# Apply the recommend_security_measures function to test data\n",
    "test_recommended_measures = recommend_security_measures(test)\n",
    "print(\"\\nRecommended Security Measures for Test Data:\")\n",
    "for measure in test_recommended_measures:\n",
    "    print(\"-\", measure)\n"
   ]
  },
  {
   "cell_type": "code",
   "execution_count": null,
   "metadata": {},
   "outputs": [],
   "source": [
    "def recommend_security_measures(data):\n",
    "    # Placeholder logic for analyzing network data and recommending security measures\n",
    "    security_recommendations = []\n",
    "\n",
    "    # Example: Check if any unusual protocol types are present\n",
    "    if any(protocol != 'TCP' for protocol in data['protocol_type']):\n",
    "        security_recommendations.append(\"Investigate anomalies in protocol types\")\n",
    "\n",
    "    # Example: Check if any 'http' services are detected\n",
    "    if any(service == 'http' for service in data['service']):\n",
    "        security_recommendations.append(\"Investigate anomalies in service types\")\n",
    "\n",
    "    # Example: Check if any unusual flags are present\n",
    "    if any(flag == 'SF' for flag in data['flag']):\n",
    "        security_recommendations.append(\"Investigate anomalies in flags\")\n",
    "\n",
    "    # You can add more analysis and recommendation logic here based on your specific requirements\n",
    "\n",
    "    return security_recommendations\n"
   ]
  },
  {
   "cell_type": "code",
   "execution_count": null,
   "metadata": {},
   "outputs": [],
   "source": []
  }
 ],
 "metadata": {
  "colab": {
   "collapsed_sections": [],
   "provenance": []
  },
  "kernelspec": {
   "display_name": "Python 3 (ipykernel)",
   "language": "python",
   "name": "python3"
  },
  "language_info": {
   "codemirror_mode": {
    "name": "ipython",
    "version": 3
   },
   "file_extension": ".py",
   "mimetype": "text/x-python",
   "name": "python",
   "nbconvert_exporter": "python",
   "pygments_lexer": "ipython3",
   "version": "3.11.5"
  }
 },
 "nbformat": 4,
 "nbformat_minor": 1
}
